{
 "cells": [
  {
   "cell_type": "code",
   "execution_count": 1,
   "metadata": {
    "collapsed": true,
    "pycharm": {
     "is_executing": false
    }
   },
   "outputs": [],
   "source": [
    "import os\n",
    "os.chdir('/Users/pengcheng/Research/tableBERT')\n",
    "\n"
   ]
  },
  {
   "cell_type": "code",
   "execution_count": 2,
   "outputs": [],
   "source": [
    "from table_bert.dataset import *\n",
    "import json"
   ],
   "metadata": {
    "collapsed": false,
    "pycharm": {
     "name": "#%%\n",
     "is_executing": false
    }
   }
  },
  {
   "cell_type": "code",
   "execution_count": 7,
   "outputs": [],
   "source": [
    "data_path = 'data/sampled_data/common_crawl.debug.jsonl'\n",
    "examples = []\n",
    "for line in open(data_path):\n",
    "    examples.append(json.loads(line))\n",
    "    \n",
    "tokenizer = BertTokenizer.from_pretrained('bert-base-uncased')"
   ],
   "metadata": {
    "collapsed": false,
    "pycharm": {
     "name": "#%%\n",
     "is_executing": false
    }
   }
  },
  {
   "cell_type": "code",
   "execution_count": 46,
   "outputs": [
    {
     "name": "stdout",
     "text": [
      "1197\nScouting Audibles Bio Videos Statistics Updates Who has the advantage at each position?\n"
     ],
     "output_type": "stream"
    },
    {
     "data": {
      "text/plain": "                 2010 OPPONENTS No Yds  Avg TD No Yds   Avg TD\n0          North Texas (Sep. 4)  0   0  0.0  0  0   0   0.0  0\n1        PRESBYTERIAN (Sep. 11)  0   0  0.0  0  0   0   0.0  0\n2           at Auburn (Sep. 18)  0   0  0.0  0  0   0   0.0  0\n3             Miami-FL (Oct. 2)  0   0  0.0  0  0   0   0.0  0\n4    at North Carolina (Oct. 9)  0   0  0.0  0  0   0   0.0  0\n5            Maryland (Oct. 16)  0   0  0.0  0  3  52  17.3  0\n6        Georgia Tech (Oct. 23)  0   0  0.0  0  0   0   0.0  0\n7   at Boston College (Oct. 30)  0   0  0.0  0  0   0   0.0  0\n8             NC State (Nov. 6)  -                            \n9    at Florida State (Nov. 13)  0   0  0.0  0  0   0   0.0  0\n10     at Wake Forest (Nov. 20)  0   0  0.0  0  0   0   0.0  0\n11     South Carolina (Nov. 27)  0   0  0.0  0  0   0   0.0  0\n12      South Florida (Dec. 31)  0   0  0.0  0  0   0   0.0  0",
      "text/html": "<div>\n<style scoped>\n    .dataframe tbody tr th:only-of-type {\n        vertical-align: middle;\n    }\n\n    .dataframe tbody tr th {\n        vertical-align: top;\n    }\n\n    .dataframe thead th {\n        text-align: right;\n    }\n</style>\n<table border=\"1\" class=\"dataframe\">\n  <thead>\n    <tr style=\"text-align: right;\">\n      <th></th>\n      <th>2010 OPPONENTS</th>\n      <th>No</th>\n      <th>Yds</th>\n      <th>Avg</th>\n      <th>TD</th>\n      <th>No</th>\n      <th>Yds</th>\n      <th>Avg</th>\n      <th>TD</th>\n    </tr>\n  </thead>\n  <tbody>\n    <tr>\n      <th>0</th>\n      <td>North Texas (Sep. 4)</td>\n      <td>0</td>\n      <td>0</td>\n      <td>0.0</td>\n      <td>0</td>\n      <td>0</td>\n      <td>0</td>\n      <td>0.0</td>\n      <td>0</td>\n    </tr>\n    <tr>\n      <th>1</th>\n      <td>PRESBYTERIAN (Sep. 11)</td>\n      <td>0</td>\n      <td>0</td>\n      <td>0.0</td>\n      <td>0</td>\n      <td>0</td>\n      <td>0</td>\n      <td>0.0</td>\n      <td>0</td>\n    </tr>\n    <tr>\n      <th>2</th>\n      <td>at Auburn (Sep. 18)</td>\n      <td>0</td>\n      <td>0</td>\n      <td>0.0</td>\n      <td>0</td>\n      <td>0</td>\n      <td>0</td>\n      <td>0.0</td>\n      <td>0</td>\n    </tr>\n    <tr>\n      <th>3</th>\n      <td>Miami-FL (Oct. 2)</td>\n      <td>0</td>\n      <td>0</td>\n      <td>0.0</td>\n      <td>0</td>\n      <td>0</td>\n      <td>0</td>\n      <td>0.0</td>\n      <td>0</td>\n    </tr>\n    <tr>\n      <th>4</th>\n      <td>at North Carolina (Oct. 9)</td>\n      <td>0</td>\n      <td>0</td>\n      <td>0.0</td>\n      <td>0</td>\n      <td>0</td>\n      <td>0</td>\n      <td>0.0</td>\n      <td>0</td>\n    </tr>\n    <tr>\n      <th>5</th>\n      <td>Maryland (Oct. 16)</td>\n      <td>0</td>\n      <td>0</td>\n      <td>0.0</td>\n      <td>0</td>\n      <td>3</td>\n      <td>52</td>\n      <td>17.3</td>\n      <td>0</td>\n    </tr>\n    <tr>\n      <th>6</th>\n      <td>Georgia Tech (Oct. 23)</td>\n      <td>0</td>\n      <td>0</td>\n      <td>0.0</td>\n      <td>0</td>\n      <td>0</td>\n      <td>0</td>\n      <td>0.0</td>\n      <td>0</td>\n    </tr>\n    <tr>\n      <th>7</th>\n      <td>at Boston College (Oct. 30)</td>\n      <td>0</td>\n      <td>0</td>\n      <td>0.0</td>\n      <td>0</td>\n      <td>0</td>\n      <td>0</td>\n      <td>0.0</td>\n      <td>0</td>\n    </tr>\n    <tr>\n      <th>8</th>\n      <td>NC State (Nov. 6)</td>\n      <td>-</td>\n      <td></td>\n      <td></td>\n      <td></td>\n      <td></td>\n      <td></td>\n      <td></td>\n      <td></td>\n    </tr>\n    <tr>\n      <th>9</th>\n      <td>at Florida State (Nov. 13)</td>\n      <td>0</td>\n      <td>0</td>\n      <td>0.0</td>\n      <td>0</td>\n      <td>0</td>\n      <td>0</td>\n      <td>0.0</td>\n      <td>0</td>\n    </tr>\n    <tr>\n      <th>10</th>\n      <td>at Wake Forest (Nov. 20)</td>\n      <td>0</td>\n      <td>0</td>\n      <td>0.0</td>\n      <td>0</td>\n      <td>0</td>\n      <td>0</td>\n      <td>0.0</td>\n      <td>0</td>\n    </tr>\n    <tr>\n      <th>11</th>\n      <td>South Carolina (Nov. 27)</td>\n      <td>0</td>\n      <td>0</td>\n      <td>0.0</td>\n      <td>0</td>\n      <td>0</td>\n      <td>0</td>\n      <td>0.0</td>\n      <td>0</td>\n    </tr>\n    <tr>\n      <th>12</th>\n      <td>South Florida (Dec. 31)</td>\n      <td>0</td>\n      <td>0</td>\n      <td>0.0</td>\n      <td>0</td>\n      <td>0</td>\n      <td>0</td>\n      <td>0.0</td>\n      <td>0</td>\n    </tr>\n  </tbody>\n</table>\n</div>"
     },
     "metadata": {},
     "output_type": "display_data"
    },
    {
     "data": {
      "text/plain": "                    2010 opponents no yd ##s av ##g td no yd ##s  av ##g td\n0          north texas ( sep . 4 )  0      0  0 . 0  0  0      0   0 . 0  0\n1        presbyterian ( sep . 11 )  0      0  0 . 0  0  0      0   0 . 0  0\n2           at auburn ( sep . 18 )  0      0  0 . 0  0  0      0   0 . 0  0\n3           miami - fl ( oct . 2 )  0      0  0 . 0  0  0      0   0 . 0  0\n4    at north carolina ( oct . 9 )  0      0  0 . 0  0  0      0   0 . 0  0\n5            maryland ( oct . 16 )  0      0  0 . 0  0  3     52  17 . 3  0\n6        georgia tech ( oct . 23 )  0      0  0 . 0  0  0      0   0 . 0  0\n7   at boston college ( oct . 30 )  0      0  0 . 0  0  0      0   0 . 0  0\n8             nc state ( nov . 6 )  -                                      \n9    at florida state ( nov . 13 )  0      0  0 . 0  0  0      0   0 . 0  0\n10     at wake forest ( nov . 20 )  0      0  0 . 0  0  0      0   0 . 0  0\n11     south carolina ( nov . 27 )  0      0  0 . 0  0  0      0   0 . 0  0\n12      south florida ( dec . 31 )  0      0  0 . 0  0  0      0   0 . 0  0",
      "text/html": "<div>\n<style scoped>\n    .dataframe tbody tr th:only-of-type {\n        vertical-align: middle;\n    }\n\n    .dataframe tbody tr th {\n        vertical-align: top;\n    }\n\n    .dataframe thead th {\n        text-align: right;\n    }\n</style>\n<table border=\"1\" class=\"dataframe\">\n  <thead>\n    <tr style=\"text-align: right;\">\n      <th></th>\n      <th>2010 opponents</th>\n      <th>no</th>\n      <th>yd ##s</th>\n      <th>av ##g</th>\n      <th>td</th>\n      <th>no</th>\n      <th>yd ##s</th>\n      <th>av ##g</th>\n      <th>td</th>\n    </tr>\n  </thead>\n  <tbody>\n    <tr>\n      <th>0</th>\n      <td>north texas ( sep . 4 )</td>\n      <td>0</td>\n      <td>0</td>\n      <td>0 . 0</td>\n      <td>0</td>\n      <td>0</td>\n      <td>0</td>\n      <td>0 . 0</td>\n      <td>0</td>\n    </tr>\n    <tr>\n      <th>1</th>\n      <td>presbyterian ( sep . 11 )</td>\n      <td>0</td>\n      <td>0</td>\n      <td>0 . 0</td>\n      <td>0</td>\n      <td>0</td>\n      <td>0</td>\n      <td>0 . 0</td>\n      <td>0</td>\n    </tr>\n    <tr>\n      <th>2</th>\n      <td>at auburn ( sep . 18 )</td>\n      <td>0</td>\n      <td>0</td>\n      <td>0 . 0</td>\n      <td>0</td>\n      <td>0</td>\n      <td>0</td>\n      <td>0 . 0</td>\n      <td>0</td>\n    </tr>\n    <tr>\n      <th>3</th>\n      <td>miami - fl ( oct . 2 )</td>\n      <td>0</td>\n      <td>0</td>\n      <td>0 . 0</td>\n      <td>0</td>\n      <td>0</td>\n      <td>0</td>\n      <td>0 . 0</td>\n      <td>0</td>\n    </tr>\n    <tr>\n      <th>4</th>\n      <td>at north carolina ( oct . 9 )</td>\n      <td>0</td>\n      <td>0</td>\n      <td>0 . 0</td>\n      <td>0</td>\n      <td>0</td>\n      <td>0</td>\n      <td>0 . 0</td>\n      <td>0</td>\n    </tr>\n    <tr>\n      <th>5</th>\n      <td>maryland ( oct . 16 )</td>\n      <td>0</td>\n      <td>0</td>\n      <td>0 . 0</td>\n      <td>0</td>\n      <td>3</td>\n      <td>52</td>\n      <td>17 . 3</td>\n      <td>0</td>\n    </tr>\n    <tr>\n      <th>6</th>\n      <td>georgia tech ( oct . 23 )</td>\n      <td>0</td>\n      <td>0</td>\n      <td>0 . 0</td>\n      <td>0</td>\n      <td>0</td>\n      <td>0</td>\n      <td>0 . 0</td>\n      <td>0</td>\n    </tr>\n    <tr>\n      <th>7</th>\n      <td>at boston college ( oct . 30 )</td>\n      <td>0</td>\n      <td>0</td>\n      <td>0 . 0</td>\n      <td>0</td>\n      <td>0</td>\n      <td>0</td>\n      <td>0 . 0</td>\n      <td>0</td>\n    </tr>\n    <tr>\n      <th>8</th>\n      <td>nc state ( nov . 6 )</td>\n      <td>-</td>\n      <td></td>\n      <td></td>\n      <td></td>\n      <td></td>\n      <td></td>\n      <td></td>\n      <td></td>\n    </tr>\n    <tr>\n      <th>9</th>\n      <td>at florida state ( nov . 13 )</td>\n      <td>0</td>\n      <td>0</td>\n      <td>0 . 0</td>\n      <td>0</td>\n      <td>0</td>\n      <td>0</td>\n      <td>0 . 0</td>\n      <td>0</td>\n    </tr>\n    <tr>\n      <th>10</th>\n      <td>at wake forest ( nov . 20 )</td>\n      <td>0</td>\n      <td>0</td>\n      <td>0 . 0</td>\n      <td>0</td>\n      <td>0</td>\n      <td>0</td>\n      <td>0 . 0</td>\n      <td>0</td>\n    </tr>\n    <tr>\n      <th>11</th>\n      <td>south carolina ( nov . 27 )</td>\n      <td>0</td>\n      <td>0</td>\n      <td>0 . 0</td>\n      <td>0</td>\n      <td>0</td>\n      <td>0</td>\n      <td>0 . 0</td>\n      <td>0</td>\n    </tr>\n    <tr>\n      <th>12</th>\n      <td>south florida ( dec . 31 )</td>\n      <td>0</td>\n      <td>0</td>\n      <td>0 . 0</td>\n      <td>0</td>\n      <td>0</td>\n      <td>0</td>\n      <td>0 . 0</td>\n      <td>0</td>\n    </tr>\n  </tbody>\n</table>\n</div>"
     },
     "metadata": {},
     "output_type": "display_data"
    }
   ],
   "source": [
    "from IPython.display import display, HTML\n",
    "import random\n",
    "\n",
    "idx = random.randint(0, len(examples))\n",
    "print(idx)\n",
    "example = Example.from_dict(examples[idx], tokenizer=None, suffix=None)\n",
    "for context in example.context:\n",
    "    for line in context:\n",
    "        print(line)\n",
    "df = example.get_table().to_data_frame()\n",
    "tokenized_df = example.get_table().to_data_frame(tokenizer=tokenizer)\n",
    "\n",
    "display(df)\n",
    "display(tokenized_df)"
   ],
   "metadata": {
    "collapsed": false,
    "pycharm": {
     "name": "#%%\n",
     "is_executing": false
    }
   }
  },
  {
   "cell_type": "code",
   "execution_count": null,
   "outputs": [],
   "source": [
    "\n"
   ],
   "metadata": {
    "collapsed": false,
    "pycharm": {
     "name": "#%%\n"
    }
   }
  }
 ],
 "metadata": {
  "kernelspec": {
   "display_name": "Python 3",
   "language": "python",
   "name": "python3"
  },
  "language_info": {
   "codemirror_mode": {
    "name": "ipython",
    "version": 2
   },
   "file_extension": ".py",
   "mimetype": "text/x-python",
   "name": "python",
   "nbconvert_exporter": "python",
   "pygments_lexer": "ipython2",
   "version": "2.7.6"
  },
  "pycharm": {
   "stem_cell": {
    "cell_type": "raw",
    "source": [],
    "metadata": {
     "collapsed": false
    }
   }
  }
 },
 "nbformat": 4,
 "nbformat_minor": 0
}